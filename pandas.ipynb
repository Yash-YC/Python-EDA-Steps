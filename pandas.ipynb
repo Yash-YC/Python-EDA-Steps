{
 "cells": [
  {
   "cell_type": "code",
   "execution_count": 2,
   "source": [
    "import numpy as np\r\n",
    "import pandas as pd\r\n",
    "import os "
   ],
   "outputs": [],
   "metadata": {}
  },
  {
   "cell_type": "code",
   "execution_count": 5,
   "source": [
    "#importing file\r\n",
    "pwd = os.getcwd()\r\n",
    "filepath = os.path.join(pwd, \"File_name\")\r\n",
    "filepath"
   ],
   "outputs": [
    {
     "output_type": "execute_result",
     "data": {
      "text/plain": [
       "'d:\\\\visual studio\\\\practise\\\\File_name'"
      ]
     },
     "metadata": {},
     "execution_count": 5
    }
   ],
   "metadata": {}
  },
  {
   "cell_type": "code",
   "execution_count": null,
   "source": [
    "df= pd.read_csv(filepath)\r\n",
    "df"
   ],
   "outputs": [],
   "metadata": {}
  },
  {
   "cell_type": "code",
   "execution_count": null,
   "source": [
    "df.info()#This displays the rows, columns, data types, and memory used by the dataframe"
   ],
   "outputs": [],
   "metadata": {}
  },
  {
   "cell_type": "code",
   "execution_count": null,
   "source": [
    "# Selects a row \r\n",
    "df.iloc[10] \r\n",
    "# Selects 10 rows \r\n",
    "df.iloc[0:10] \r\n",
    "# # Selects a range of rows \r\n",
    "df.iloc[10:15] \r\n",
    "# # Selects the last 2 rows \r\n",
    "df.iloc[-2:]\r\n",
    "\r\n",
    "\r\n",
    "#loc vs iloc\r\n",
    "df.loc[#row_label, column_label]\r\n",
    "df.iloc[#row_position, column_position] "
   ],
   "outputs": [],
   "metadata": {}
  },
  {
   "cell_type": "markdown",
   "source": [
    "# Pivot tables"
   ],
   "metadata": {}
  },
  {
   "cell_type": "code",
   "execution_count": null,
   "source": [
    "# Pivot tables and cross-tabulations\r\n",
    "\r\n",
    "# Pandas offers several options for grouping and summarizing data \r\n",
    "pd.pivot_table(dataset, index = [\"Coloum_name1\",\"Coloum_name2\".... ])\r\n",
    "\r\n",
    "# all parameter \r\n",
    "pandas.pivot_table(data, values=None, index=None, columns=None, aggfunc='mean', fill_value=None, \r\n",
    "margins=False, dropna=True, margins_name='All', observed=False, sort=True)\r\n"
   ],
   "outputs": [],
   "metadata": {}
  },
  {
   "cell_type": "markdown",
   "source": [
    "# Cross-Tabulations\r\n",
    "\r\n",
    "This allows us to cope with groupby and aggregation for better data analysis. pandas has the crosstab function, which helps when it comes to building a cross-tabulation table. The cross-tabulation table shows the frequency with which certain groups of data appear."
   ],
   "metadata": {}
  },
  {
   "cell_type": "code",
   "execution_count": null,
   "source": [
    "pandas.crosstab(index, columns, values=None, rownames=None, colnames=None, aggfunc=None, margins=False, margins_name='All', dropna=True, normalize=False)"
   ],
   "outputs": [],
   "metadata": {}
  },
  {
   "cell_type": "markdown",
   "source": [
    "## Pandas String Functions"
   ],
   "metadata": {}
  },
  {
   "cell_type": "code",
   "execution_count": null,
   "source": [
    "\r\n",
    "# str.lower() to convert the first comment to lowercase \r\n",
    "text[0].lower()"
   ],
   "outputs": [],
   "metadata": {}
  },
  {
   "cell_type": "code",
   "execution_count": null,
   "source": [
    "# Convert all comment to lowercase str.lower()\r\n",
    "text.str.lower().head()"
   ],
   "outputs": [],
   "metadata": {}
  },
  {
   "cell_type": "code",
   "execution_count": null,
   "source": [
    "# str.upper() to convert the first comment to uppercase \r\n",
    "text[0].upper()"
   ],
   "outputs": [],
   "metadata": {}
  },
  {
   "cell_type": "code",
   "execution_count": null,
   "source": [
    "# str.len() to Get the length of all comments\r\n",
    "text.str.len().head(8)"
   ],
   "outputs": [],
   "metadata": {}
  },
  {
   "cell_type": "code",
   "execution_count": null,
   "source": [
    "# Split comments on spaces\r\n",
    "text.str.split(\" \").head(8)"
   ],
   "outputs": [],
   "metadata": {}
  },
  {
   "cell_type": "code",
   "execution_count": null,
   "source": [
    "# Strip leading and trailing brackets\r\n",
    "text.str.strip(\"[]\").head(8)"
   ],
   "outputs": [],
   "metadata": {}
  },
  {
   "cell_type": "code",
   "execution_count": null,
   "source": [
    "\r\n",
    "# Check the first 500 characters\r\n",
    "text.str.cat()[0:500]"
   ],
   "outputs": [],
   "metadata": {}
  },
  {
   "cell_type": "code",
   "execution_count": null,
   "source": [
    "# Slice the first 10 characters\r\n",
    "text.str.slice(0, 10).head(8)"
   ],
   "outputs": [],
   "metadata": {}
  },
  {
   "cell_type": "code",
   "execution_count": null,
   "source": [
    "# Slice the first 10 characters\r\n",
    "text.str[0:10].head(8)"
   ],
   "outputs": [],
   "metadata": {}
  },
  {
   "cell_type": "code",
   "execution_count": null,
   "source": [
    "# Replace a slice with a new substring using str.slice_replace():\r\n",
    "text.str.slice_replace( ).head(8)"
   ],
   "outputs": [],
   "metadata": {}
  },
  {
   "cell_type": "code",
   "execution_count": null,
   "source": [
    "# Replace the occurences of a given substring with a different substring using str.replace()\r\n",
    "text.str.replace().head(8)"
   ],
   "outputs": [],
   "metadata": {}
  },
  {
   "cell_type": "code",
   "execution_count": null,
   "source": [
    "# Get first 10 comments about Andrew Wiggins\r\n",
    "selected_comments = text.str.lower().str.contains(\"wigg|drew\")\r\n",
    "\r\n",
    "text[selected_comments].head(10)"
   ],
   "outputs": [],
   "metadata": {}
  },
  {
   "cell_type": "code",
   "execution_count": null,
   "source": [
    "len(text[selected_comments])/len(text)"
   ],
   "outputs": [],
   "metadata": {}
  }
 ],
 "metadata": {
  "orig_nbformat": 4,
  "language_info": {
   "name": "python",
   "version": "3.9.6",
   "mimetype": "text/x-python",
   "codemirror_mode": {
    "name": "ipython",
    "version": 3
   },
   "pygments_lexer": "ipython3",
   "nbconvert_exporter": "python",
   "file_extension": ".py"
  },
  "kernelspec": {
   "name": "python3",
   "display_name": "Python 3.9.6 64-bit ('ML_algo': conda)"
  },
  "interpreter": {
   "hash": "3a32990f6da0d7abf7182fdf4d416d4dc1a912d9d1503f9139207ed8cae052ef"
  }
 },
 "nbformat": 4,
 "nbformat_minor": 2
}