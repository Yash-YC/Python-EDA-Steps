{
 "cells": [
  {
   "cell_type": "code",
   "execution_count": 9,
   "source": [
    "## Select item at row 0 and 1 and column 1 from 2D array\r\n",
    "import numpy as np\r\n",
    "y = np.array([[ 1, 2, 3, 4], [ 9, 10, 11 ,12]]) \r\n",
    "print(y[0:2,2])#print(V_name[No_of_rows,No_of_col])\r\n",
    "#specify Condition\r\n",
    "print(y[y>2])"
   ],
   "outputs": [
    {
     "output_type": "stream",
     "name": "stdout",
     "text": [
      "[ 3 11]\n",
      "[ 3  4  9 10 11 12]\n"
     ]
    }
   ],
   "metadata": {}
  },
  {
   "cell_type": "code",
   "execution_count": null,
   "source": [],
   "outputs": [],
   "metadata": {}
  }
 ],
 "metadata": {
  "orig_nbformat": 4,
  "language_info": {
   "name": "python",
   "version": "3.9.6",
   "mimetype": "text/x-python",
   "codemirror_mode": {
    "name": "ipython",
    "version": 3
   },
   "pygments_lexer": "ipython3",
   "nbconvert_exporter": "python",
   "file_extension": ".py"
  },
  "kernelspec": {
   "name": "python3",
   "display_name": "Python 3.9.6 64-bit ('ML_algo': conda)"
  },
  "interpreter": {
   "hash": "3a32990f6da0d7abf7182fdf4d416d4dc1a912d9d1503f9139207ed8cae052ef"
  }
 },
 "nbformat": 4,
 "nbformat_minor": 2
}